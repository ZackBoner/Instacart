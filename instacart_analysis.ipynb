{
 "cells": [
  {
   "cell_type": "code",
   "execution_count": 32,
   "metadata": {},
   "outputs": [],
   "source": [
    "import umap\n",
    "import pandas as pd\n",
    "import numpy as np\n",
    "import matplotlib.pyplot as plt\n",
    "import seaborn as sns\n",
    "import plotly as ply\n",
    "import colorcet as cc"
   ]
  },
  {
   "cell_type": "code",
   "execution_count": 4,
   "metadata": {},
   "outputs": [],
   "source": [
    "# Load pre-stored data\n",
    "data_store = pd.HDFStore('instacart.h5')\n",
    "full_dataset = data_store['full_dataset']\n",
    "data_store.close()"
   ]
  },
  {
   "cell_type": "code",
   "execution_count": 5,
   "metadata": {},
   "outputs": [],
   "source": [
    "small_dataset = full_dataset.sample(10000)"
   ]
  },
  {
   "cell_type": "code",
   "execution_count": 6,
   "metadata": {},
   "outputs": [
    {
     "data": {
      "text/html": [
       "<div>\n",
       "<style scoped>\n",
       "    .dataframe tbody tr th:only-of-type {\n",
       "        vertical-align: middle;\n",
       "    }\n",
       "\n",
       "    .dataframe tbody tr th {\n",
       "        vertical-align: top;\n",
       "    }\n",
       "\n",
       "    .dataframe thead th {\n",
       "        text-align: right;\n",
       "    }\n",
       "</style>\n",
       "<table border=\"1\" class=\"dataframe\">\n",
       "  <thead>\n",
       "    <tr style=\"text-align: right;\">\n",
       "      <th></th>\n",
       "      <th>user_id</th>\n",
       "      <th>order_number</th>\n",
       "      <th>order_dow</th>\n",
       "      <th>order_hour_of_day</th>\n",
       "      <th>days_since_prior_order</th>\n",
       "      <th>add_to_cart_order</th>\n",
       "      <th>reordered</th>\n",
       "      <th>product_name</th>\n",
       "      <th>aisle</th>\n",
       "      <th>department</th>\n",
       "    </tr>\n",
       "  </thead>\n",
       "  <tbody>\n",
       "    <tr>\n",
       "      <td>13962350</td>\n",
       "      <td>88403</td>\n",
       "      <td>7</td>\n",
       "      <td>6</td>\n",
       "      <td>13</td>\n",
       "      <td>5.0</td>\n",
       "      <td>4</td>\n",
       "      <td>0</td>\n",
       "      <td>Sauvignon Blanc</td>\n",
       "      <td>white wines</td>\n",
       "      <td>alcohol</td>\n",
       "    </tr>\n",
       "    <tr>\n",
       "      <td>14046602</td>\n",
       "      <td>88950</td>\n",
       "      <td>4</td>\n",
       "      <td>3</td>\n",
       "      <td>8</td>\n",
       "      <td>8.0</td>\n",
       "      <td>2</td>\n",
       "      <td>1</td>\n",
       "      <td>Organic Baby Spinach</td>\n",
       "      <td>packaged vegetables fruits</td>\n",
       "      <td>produce</td>\n",
       "    </tr>\n",
       "    <tr>\n",
       "      <td>15420465</td>\n",
       "      <td>97546</td>\n",
       "      <td>12</td>\n",
       "      <td>2</td>\n",
       "      <td>13</td>\n",
       "      <td>5.0</td>\n",
       "      <td>7</td>\n",
       "      <td>1</td>\n",
       "      <td>Cheddar Puffs</td>\n",
       "      <td>chips pretzels</td>\n",
       "      <td>snacks</td>\n",
       "    </tr>\n",
       "    <tr>\n",
       "      <td>3833487</td>\n",
       "      <td>24358</td>\n",
       "      <td>11</td>\n",
       "      <td>6</td>\n",
       "      <td>10</td>\n",
       "      <td>7.0</td>\n",
       "      <td>5</td>\n",
       "      <td>0</td>\n",
       "      <td>Organic Italian Parsley Bunch</td>\n",
       "      <td>fresh herbs</td>\n",
       "      <td>produce</td>\n",
       "    </tr>\n",
       "    <tr>\n",
       "      <td>12642005</td>\n",
       "      <td>79986</td>\n",
       "      <td>2</td>\n",
       "      <td>2</td>\n",
       "      <td>14</td>\n",
       "      <td>11.0</td>\n",
       "      <td>10</td>\n",
       "      <td>0</td>\n",
       "      <td>Organic Cucumber</td>\n",
       "      <td>fresh vegetables</td>\n",
       "      <td>produce</td>\n",
       "    </tr>\n",
       "    <tr>\n",
       "      <td>...</td>\n",
       "      <td>...</td>\n",
       "      <td>...</td>\n",
       "      <td>...</td>\n",
       "      <td>...</td>\n",
       "      <td>...</td>\n",
       "      <td>...</td>\n",
       "      <td>...</td>\n",
       "      <td>...</td>\n",
       "      <td>...</td>\n",
       "      <td>...</td>\n",
       "    </tr>\n",
       "    <tr>\n",
       "      <td>4938409</td>\n",
       "      <td>31465</td>\n",
       "      <td>2</td>\n",
       "      <td>6</td>\n",
       "      <td>13</td>\n",
       "      <td>3.0</td>\n",
       "      <td>14</td>\n",
       "      <td>0</td>\n",
       "      <td>Maple Almond Butter</td>\n",
       "      <td>spreads</td>\n",
       "      <td>pantry</td>\n",
       "    </tr>\n",
       "    <tr>\n",
       "      <td>9013238</td>\n",
       "      <td>57087</td>\n",
       "      <td>9</td>\n",
       "      <td>5</td>\n",
       "      <td>0</td>\n",
       "      <td>23.0</td>\n",
       "      <td>1</td>\n",
       "      <td>1</td>\n",
       "      <td>Bean &amp; Cheese Burrito</td>\n",
       "      <td>frozen meals</td>\n",
       "      <td>frozen</td>\n",
       "    </tr>\n",
       "    <tr>\n",
       "      <td>10911719</td>\n",
       "      <td>69130</td>\n",
       "      <td>9</td>\n",
       "      <td>5</td>\n",
       "      <td>11</td>\n",
       "      <td>10.0</td>\n",
       "      <td>15</td>\n",
       "      <td>1</td>\n",
       "      <td>Sweet Potato Yam</td>\n",
       "      <td>fresh vegetables</td>\n",
       "      <td>produce</td>\n",
       "    </tr>\n",
       "    <tr>\n",
       "      <td>5748499</td>\n",
       "      <td>36596</td>\n",
       "      <td>40</td>\n",
       "      <td>5</td>\n",
       "      <td>15</td>\n",
       "      <td>5.0</td>\n",
       "      <td>1</td>\n",
       "      <td>1</td>\n",
       "      <td>Bag of Organic Bananas</td>\n",
       "      <td>fresh fruits</td>\n",
       "      <td>produce</td>\n",
       "    </tr>\n",
       "    <tr>\n",
       "      <td>26621377</td>\n",
       "      <td>169266</td>\n",
       "      <td>25</td>\n",
       "      <td>0</td>\n",
       "      <td>11</td>\n",
       "      <td>3.0</td>\n",
       "      <td>13</td>\n",
       "      <td>1</td>\n",
       "      <td>Organic Raspberries</td>\n",
       "      <td>packaged vegetables fruits</td>\n",
       "      <td>produce</td>\n",
       "    </tr>\n",
       "  </tbody>\n",
       "</table>\n",
       "<p>10000 rows × 10 columns</p>\n",
       "</div>"
      ],
      "text/plain": [
       "          user_id  order_number  order_dow  order_hour_of_day  \\\n",
       "13962350    88403             7          6                 13   \n",
       "14046602    88950             4          3                  8   \n",
       "15420465    97546            12          2                 13   \n",
       "3833487     24358            11          6                 10   \n",
       "12642005    79986             2          2                 14   \n",
       "...           ...           ...        ...                ...   \n",
       "4938409     31465             2          6                 13   \n",
       "9013238     57087             9          5                  0   \n",
       "10911719    69130             9          5                 11   \n",
       "5748499     36596            40          5                 15   \n",
       "26621377   169266            25          0                 11   \n",
       "\n",
       "          days_since_prior_order  add_to_cart_order  reordered  \\\n",
       "13962350                     5.0                  4          0   \n",
       "14046602                     8.0                  2          1   \n",
       "15420465                     5.0                  7          1   \n",
       "3833487                      7.0                  5          0   \n",
       "12642005                    11.0                 10          0   \n",
       "...                          ...                ...        ...   \n",
       "4938409                      3.0                 14          0   \n",
       "9013238                     23.0                  1          1   \n",
       "10911719                    10.0                 15          1   \n",
       "5748499                      5.0                  1          1   \n",
       "26621377                     3.0                 13          1   \n",
       "\n",
       "                           product_name                       aisle department  \n",
       "13962350                Sauvignon Blanc                 white wines    alcohol  \n",
       "14046602           Organic Baby Spinach  packaged vegetables fruits    produce  \n",
       "15420465                  Cheddar Puffs              chips pretzels     snacks  \n",
       "3833487   Organic Italian Parsley Bunch                 fresh herbs    produce  \n",
       "12642005               Organic Cucumber            fresh vegetables    produce  \n",
       "...                                 ...                         ...        ...  \n",
       "4938409             Maple Almond Butter                     spreads     pantry  \n",
       "9013238           Bean & Cheese Burrito                frozen meals     frozen  \n",
       "10911719               Sweet Potato Yam            fresh vegetables    produce  \n",
       "5748499          Bag of Organic Bananas                fresh fruits    produce  \n",
       "26621377            Organic Raspberries  packaged vegetables fruits    produce  \n",
       "\n",
       "[10000 rows x 10 columns]"
      ]
     },
     "execution_count": 6,
     "metadata": {},
     "output_type": "execute_result"
    }
   ],
   "source": [
    "small_dataset"
   ]
  },
  {
   "cell_type": "code",
   "execution_count": 7,
   "metadata": {},
   "outputs": [
    {
     "data": {
      "text/html": [
       "<div>\n",
       "<style scoped>\n",
       "    .dataframe tbody tr th:only-of-type {\n",
       "        vertical-align: middle;\n",
       "    }\n",
       "\n",
       "    .dataframe tbody tr th {\n",
       "        vertical-align: top;\n",
       "    }\n",
       "\n",
       "    .dataframe thead th {\n",
       "        text-align: right;\n",
       "    }\n",
       "</style>\n",
       "<table border=\"1\" class=\"dataframe\">\n",
       "  <thead>\n",
       "    <tr style=\"text-align: right;\">\n",
       "      <th></th>\n",
       "      <th>user_id</th>\n",
       "      <th>order_number</th>\n",
       "      <th>order_dow</th>\n",
       "      <th>order_hour_of_day</th>\n",
       "      <th>days_since_prior_order</th>\n",
       "      <th>add_to_cart_order</th>\n",
       "      <th>reordered</th>\n",
       "      <th>product_name</th>\n",
       "      <th>aisle</th>\n",
       "      <th>department</th>\n",
       "    </tr>\n",
       "  </thead>\n",
       "  <tbody>\n",
       "    <tr>\n",
       "      <td>13962350</td>\n",
       "      <td>88403</td>\n",
       "      <td>7</td>\n",
       "      <td>6</td>\n",
       "      <td>13</td>\n",
       "      <td>5.0</td>\n",
       "      <td>4</td>\n",
       "      <td>0</td>\n",
       "      <td>Sauvignon Blanc</td>\n",
       "      <td>white wines</td>\n",
       "      <td>alcohol</td>\n",
       "    </tr>\n",
       "    <tr>\n",
       "      <td>14046602</td>\n",
       "      <td>88950</td>\n",
       "      <td>4</td>\n",
       "      <td>3</td>\n",
       "      <td>8</td>\n",
       "      <td>8.0</td>\n",
       "      <td>2</td>\n",
       "      <td>1</td>\n",
       "      <td>Organic Baby Spinach</td>\n",
       "      <td>packaged vegetables fruits</td>\n",
       "      <td>produce</td>\n",
       "    </tr>\n",
       "    <tr>\n",
       "      <td>15420465</td>\n",
       "      <td>97546</td>\n",
       "      <td>12</td>\n",
       "      <td>2</td>\n",
       "      <td>13</td>\n",
       "      <td>5.0</td>\n",
       "      <td>7</td>\n",
       "      <td>1</td>\n",
       "      <td>Cheddar Puffs</td>\n",
       "      <td>chips pretzels</td>\n",
       "      <td>snacks</td>\n",
       "    </tr>\n",
       "    <tr>\n",
       "      <td>3833487</td>\n",
       "      <td>24358</td>\n",
       "      <td>11</td>\n",
       "      <td>6</td>\n",
       "      <td>10</td>\n",
       "      <td>7.0</td>\n",
       "      <td>5</td>\n",
       "      <td>0</td>\n",
       "      <td>Organic Italian Parsley Bunch</td>\n",
       "      <td>fresh herbs</td>\n",
       "      <td>produce</td>\n",
       "    </tr>\n",
       "    <tr>\n",
       "      <td>12642005</td>\n",
       "      <td>79986</td>\n",
       "      <td>2</td>\n",
       "      <td>2</td>\n",
       "      <td>14</td>\n",
       "      <td>11.0</td>\n",
       "      <td>10</td>\n",
       "      <td>0</td>\n",
       "      <td>Organic Cucumber</td>\n",
       "      <td>fresh vegetables</td>\n",
       "      <td>produce</td>\n",
       "    </tr>\n",
       "    <tr>\n",
       "      <td>29805701</td>\n",
       "      <td>189331</td>\n",
       "      <td>7</td>\n",
       "      <td>6</td>\n",
       "      <td>8</td>\n",
       "      <td>20.0</td>\n",
       "      <td>1</td>\n",
       "      <td>0</td>\n",
       "      <td>Whole Tellicherry Peppercorns</td>\n",
       "      <td>spices seasonings</td>\n",
       "      <td>pantry</td>\n",
       "    </tr>\n",
       "    <tr>\n",
       "      <td>819828</td>\n",
       "      <td>5328</td>\n",
       "      <td>40</td>\n",
       "      <td>5</td>\n",
       "      <td>11</td>\n",
       "      <td>5.0</td>\n",
       "      <td>7</td>\n",
       "      <td>1</td>\n",
       "      <td>Grain Free Turkey &amp; Salmon Formula Cat Food</td>\n",
       "      <td>cat food care</td>\n",
       "      <td>pets</td>\n",
       "    </tr>\n",
       "  </tbody>\n",
       "</table>\n",
       "</div>"
      ],
      "text/plain": [
       "          user_id  order_number  order_dow  order_hour_of_day  \\\n",
       "13962350    88403             7          6                 13   \n",
       "14046602    88950             4          3                  8   \n",
       "15420465    97546            12          2                 13   \n",
       "3833487     24358            11          6                 10   \n",
       "12642005    79986             2          2                 14   \n",
       "29805701   189331             7          6                  8   \n",
       "819828       5328            40          5                 11   \n",
       "\n",
       "          days_since_prior_order  add_to_cart_order  reordered  \\\n",
       "13962350                     5.0                  4          0   \n",
       "14046602                     8.0                  2          1   \n",
       "15420465                     5.0                  7          1   \n",
       "3833487                      7.0                  5          0   \n",
       "12642005                    11.0                 10          0   \n",
       "29805701                    20.0                  1          0   \n",
       "819828                       5.0                  7          1   \n",
       "\n",
       "                                         product_name  \\\n",
       "13962350                              Sauvignon Blanc   \n",
       "14046602                         Organic Baby Spinach   \n",
       "15420465                                Cheddar Puffs   \n",
       "3833487                 Organic Italian Parsley Bunch   \n",
       "12642005                             Organic Cucumber   \n",
       "29805701                Whole Tellicherry Peppercorns   \n",
       "819828    Grain Free Turkey & Salmon Formula Cat Food   \n",
       "\n",
       "                               aisle department  \n",
       "13962350                 white wines    alcohol  \n",
       "14046602  packaged vegetables fruits    produce  \n",
       "15420465              chips pretzels     snacks  \n",
       "3833487                  fresh herbs    produce  \n",
       "12642005            fresh vegetables    produce  \n",
       "29805701           spices seasonings     pantry  \n",
       "819828                 cat food care       pets  "
      ]
     },
     "execution_count": 7,
     "metadata": {},
     "output_type": "execute_result"
    }
   ],
   "source": [
    "small_dataset.head(7)"
   ]
  },
  {
   "cell_type": "code",
   "execution_count": 8,
   "metadata": {},
   "outputs": [],
   "source": [
    "small_dataset['days_since_prior_order'] = small_dataset['days_since_prior_order'].fillna(-1)"
   ]
  },
  {
   "cell_type": "code",
   "execution_count": 9,
   "metadata": {},
   "outputs": [],
   "source": [
    "small_dataset['days_since_prior_order'] = small_dataset['days_since_prior_order'].apply(lambda x: int(x))"
   ]
  },
  {
   "cell_type": "code",
   "execution_count": 10,
   "metadata": {},
   "outputs": [
    {
     "data": {
      "text/plain": [
       "user_id                    int64\n",
       "order_number               int64\n",
       "order_dow                  int64\n",
       "order_hour_of_day          int64\n",
       "days_since_prior_order     int64\n",
       "add_to_cart_order          int64\n",
       "reordered                  int64\n",
       "product_name              object\n",
       "aisle                     object\n",
       "department                object\n",
       "dtype: object"
      ]
     },
     "execution_count": 10,
     "metadata": {},
     "output_type": "execute_result"
    }
   ],
   "source": [
    "small_dataset.dtypes"
   ]
  },
  {
   "cell_type": "code",
   "execution_count": 11,
   "metadata": {},
   "outputs": [],
   "source": [
    "dow_hrd = small_dataset[['order_dow','order_hour_of_day']].drop_duplicates()"
   ]
  },
  {
   "cell_type": "code",
   "execution_count": 12,
   "metadata": {},
   "outputs": [],
   "source": [
    "dow_hrd['time_x'] = np.sin(dow_hrd['order_hour_of_day']/12*np.pi)\n",
    "dow_hrd['time_y'] = np.cos(dow_hrd['order_hour_of_day']/12*np.pi)"
   ]
  },
  {
   "cell_type": "code",
   "execution_count": 13,
   "metadata": {},
   "outputs": [
    {
     "data": {
      "text/plain": [
       "<matplotlib.collections.PathCollection at 0x1940001ce10>"
      ]
     },
     "execution_count": 13,
     "metadata": {},
     "output_type": "execute_result"
    },
    {
     "data": {
      "image/png": "[encoded data removed]",
      "text/plain": [
       "<Figure size 432x288 with 1 Axes>"
      ]
     },
     "metadata": {
      "needs_background": "light"
     },
     "output_type": "display_data"
    }
   ],
   "source": [
    "plt.scatter(dow_hrd['time_x'],dow_hrd['time_y'])"
   ]
  },
  {
   "cell_type": "code",
   "execution_count": 14,
   "metadata": {},
   "outputs": [
    {
     "data": {
      "text/html": [
       "<div>\n",
       "<style scoped>\n",
       "    .dataframe tbody tr th:only-of-type {\n",
       "        vertical-align: middle;\n",
       "    }\n",
       "\n",
       "    .dataframe tbody tr th {\n",
       "        vertical-align: top;\n",
       "    }\n",
       "\n",
       "    .dataframe thead th {\n",
       "        text-align: right;\n",
       "    }\n",
       "</style>\n",
       "<table border=\"1\" class=\"dataframe\">\n",
       "  <thead>\n",
       "    <tr style=\"text-align: right;\">\n",
       "      <th></th>\n",
       "      <th>order_dow</th>\n",
       "      <th>order_hour_of_day</th>\n",
       "      <th>time_x</th>\n",
       "      <th>time_y</th>\n",
       "    </tr>\n",
       "  </thead>\n",
       "  <tbody>\n",
       "    <tr>\n",
       "      <td>13962350</td>\n",
       "      <td>6</td>\n",
       "      <td>13</td>\n",
       "      <td>-0.258819</td>\n",
       "      <td>-0.965926</td>\n",
       "    </tr>\n",
       "    <tr>\n",
       "      <td>14046602</td>\n",
       "      <td>3</td>\n",
       "      <td>8</td>\n",
       "      <td>0.866025</td>\n",
       "      <td>-0.500000</td>\n",
       "    </tr>\n",
       "    <tr>\n",
       "      <td>15420465</td>\n",
       "      <td>2</td>\n",
       "      <td>13</td>\n",
       "      <td>-0.258819</td>\n",
       "      <td>-0.965926</td>\n",
       "    </tr>\n",
       "    <tr>\n",
       "      <td>3833487</td>\n",
       "      <td>6</td>\n",
       "      <td>10</td>\n",
       "      <td>0.500000</td>\n",
       "      <td>-0.866025</td>\n",
       "    </tr>\n",
       "    <tr>\n",
       "      <td>12642005</td>\n",
       "      <td>2</td>\n",
       "      <td>14</td>\n",
       "      <td>-0.500000</td>\n",
       "      <td>-0.866025</td>\n",
       "    </tr>\n",
       "  </tbody>\n",
       "</table>\n",
       "</div>"
      ],
      "text/plain": [
       "          order_dow  order_hour_of_day    time_x    time_y\n",
       "13962350          6                 13 -0.258819 -0.965926\n",
       "14046602          3                  8  0.866025 -0.500000\n",
       "15420465          2                 13 -0.258819 -0.965926\n",
       "3833487           6                 10  0.500000 -0.866025\n",
       "12642005          2                 14 -0.500000 -0.866025"
      ]
     },
     "execution_count": 14,
     "metadata": {},
     "output_type": "execute_result"
    }
   ],
   "source": [
    "dow_hrd.head()"
   ]
  },
  {
   "cell_type": "code",
   "execution_count": 15,
   "metadata": {},
   "outputs": [],
   "source": [
    "small_dataset = small_dataset.merge(dow_hrd)"
   ]
  },
  {
   "cell_type": "code",
   "execution_count": 16,
   "metadata": {},
   "outputs": [
    {
     "data": {
      "text/html": [
       "<div>\n",
       "<style scoped>\n",
       "    .dataframe tbody tr th:only-of-type {\n",
       "        vertical-align: middle;\n",
       "    }\n",
       "\n",
       "    .dataframe tbody tr th {\n",
       "        vertical-align: top;\n",
       "    }\n",
       "\n",
       "    .dataframe thead th {\n",
       "        text-align: right;\n",
       "    }\n",
       "</style>\n",
       "<table border=\"1\" class=\"dataframe\">\n",
       "  <thead>\n",
       "    <tr style=\"text-align: right;\">\n",
       "      <th></th>\n",
       "      <th>user_id</th>\n",
       "      <th>order_number</th>\n",
       "      <th>order_dow</th>\n",
       "      <th>order_hour_of_day</th>\n",
       "      <th>days_since_prior_order</th>\n",
       "      <th>add_to_cart_order</th>\n",
       "      <th>reordered</th>\n",
       "      <th>product_name</th>\n",
       "      <th>aisle</th>\n",
       "      <th>department</th>\n",
       "      <th>time_x</th>\n",
       "      <th>time_y</th>\n",
       "    </tr>\n",
       "  </thead>\n",
       "  <tbody>\n",
       "    <tr>\n",
       "      <td>7317</td>\n",
       "      <td>77754</td>\n",
       "      <td>4</td>\n",
       "      <td>4</td>\n",
       "      <td>15</td>\n",
       "      <td>30</td>\n",
       "      <td>1</td>\n",
       "      <td>0</td>\n",
       "      <td>Large White Eggs</td>\n",
       "      <td>eggs</td>\n",
       "      <td>dairy eggs</td>\n",
       "      <td>-7.071068e-01</td>\n",
       "      <td>-0.707107</td>\n",
       "    </tr>\n",
       "    <tr>\n",
       "      <td>9713</td>\n",
       "      <td>2864</td>\n",
       "      <td>1</td>\n",
       "      <td>0</td>\n",
       "      <td>21</td>\n",
       "      <td>-1</td>\n",
       "      <td>1</td>\n",
       "      <td>0</td>\n",
       "      <td>Organic Fat Free Milk</td>\n",
       "      <td>milk</td>\n",
       "      <td>dairy eggs</td>\n",
       "      <td>-7.071068e-01</td>\n",
       "      <td>0.707107</td>\n",
       "    </tr>\n",
       "    <tr>\n",
       "      <td>3527</td>\n",
       "      <td>202986</td>\n",
       "      <td>1</td>\n",
       "      <td>0</td>\n",
       "      <td>14</td>\n",
       "      <td>-1</td>\n",
       "      <td>7</td>\n",
       "      <td>0</td>\n",
       "      <td>Sour Cream &amp; Onion Potato Chips</td>\n",
       "      <td>chips pretzels</td>\n",
       "      <td>snacks</td>\n",
       "      <td>-5.000000e-01</td>\n",
       "      <td>-0.866025</td>\n",
       "    </tr>\n",
       "    <tr>\n",
       "      <td>613</td>\n",
       "      <td>111395</td>\n",
       "      <td>4</td>\n",
       "      <td>5</td>\n",
       "      <td>11</td>\n",
       "      <td>8</td>\n",
       "      <td>9</td>\n",
       "      <td>1</td>\n",
       "      <td>Toilet Paper Double Rolls - 24 CT</td>\n",
       "      <td>paper goods</td>\n",
       "      <td>household</td>\n",
       "      <td>2.588190e-01</td>\n",
       "      <td>-0.965926</td>\n",
       "    </tr>\n",
       "    <tr>\n",
       "      <td>3262</td>\n",
       "      <td>15170</td>\n",
       "      <td>2</td>\n",
       "      <td>3</td>\n",
       "      <td>15</td>\n",
       "      <td>1</td>\n",
       "      <td>5</td>\n",
       "      <td>0</td>\n",
       "      <td>Extralean Ground Turkey Breast</td>\n",
       "      <td>packaged poultry</td>\n",
       "      <td>meat seafood</td>\n",
       "      <td>-7.071068e-01</td>\n",
       "      <td>-0.707107</td>\n",
       "    </tr>\n",
       "    <tr>\n",
       "      <td>7609</td>\n",
       "      <td>127820</td>\n",
       "      <td>46</td>\n",
       "      <td>4</td>\n",
       "      <td>22</td>\n",
       "      <td>5</td>\n",
       "      <td>1</td>\n",
       "      <td>0</td>\n",
       "      <td>Kumato Tomatoes</td>\n",
       "      <td>fresh vegetables</td>\n",
       "      <td>produce</td>\n",
       "      <td>-5.000000e-01</td>\n",
       "      <td>0.866025</td>\n",
       "    </tr>\n",
       "    <tr>\n",
       "      <td>5863</td>\n",
       "      <td>114991</td>\n",
       "      <td>2</td>\n",
       "      <td>2</td>\n",
       "      <td>12</td>\n",
       "      <td>30</td>\n",
       "      <td>4</td>\n",
       "      <td>1</td>\n",
       "      <td>Three Cheese Italian Sauce</td>\n",
       "      <td>pasta sauce</td>\n",
       "      <td>dry goods pasta</td>\n",
       "      <td>1.224647e-16</td>\n",
       "      <td>-1.000000</td>\n",
       "    </tr>\n",
       "    <tr>\n",
       "      <td>9588</td>\n",
       "      <td>129353</td>\n",
       "      <td>7</td>\n",
       "      <td>6</td>\n",
       "      <td>23</td>\n",
       "      <td>26</td>\n",
       "      <td>8</td>\n",
       "      <td>1</td>\n",
       "      <td>2% Reduced Fat Milk</td>\n",
       "      <td>milk</td>\n",
       "      <td>dairy eggs</td>\n",
       "      <td>-2.588190e-01</td>\n",
       "      <td>0.965926</td>\n",
       "    </tr>\n",
       "    <tr>\n",
       "      <td>3038</td>\n",
       "      <td>47906</td>\n",
       "      <td>4</td>\n",
       "      <td>1</td>\n",
       "      <td>12</td>\n",
       "      <td>9</td>\n",
       "      <td>12</td>\n",
       "      <td>1</td>\n",
       "      <td>Pomegranate Limeade Quencher</td>\n",
       "      <td>refrigerated</td>\n",
       "      <td>beverages</td>\n",
       "      <td>1.224647e-16</td>\n",
       "      <td>-1.000000</td>\n",
       "    </tr>\n",
       "    <tr>\n",
       "      <td>1750</td>\n",
       "      <td>189302</td>\n",
       "      <td>16</td>\n",
       "      <td>0</td>\n",
       "      <td>9</td>\n",
       "      <td>7</td>\n",
       "      <td>24</td>\n",
       "      <td>1</td>\n",
       "      <td>Natural Bliss Salted Caramel Flavor All-Natura...</td>\n",
       "      <td>cream</td>\n",
       "      <td>dairy eggs</td>\n",
       "      <td>7.071068e-01</td>\n",
       "      <td>-0.707107</td>\n",
       "    </tr>\n",
       "  </tbody>\n",
       "</table>\n",
       "</div>"
      ],
      "text/plain": [
       "      user_id  order_number  order_dow  order_hour_of_day  \\\n",
       "7317    77754             4          4                 15   \n",
       "9713     2864             1          0                 21   \n",
       "3527   202986             1          0                 14   \n",
       "613    111395             4          5                 11   \n",
       "3262    15170             2          3                 15   \n",
       "7609   127820            46          4                 22   \n",
       "5863   114991             2          2                 12   \n",
       "9588   129353             7          6                 23   \n",
       "3038    47906             4          1                 12   \n",
       "1750   189302            16          0                  9   \n",
       "\n",
       "      days_since_prior_order  add_to_cart_order  reordered  \\\n",
       "7317                      30                  1          0   \n",
       "9713                      -1                  1          0   \n",
       "3527                      -1                  7          0   \n",
       "613                        8                  9          1   \n",
       "3262                       1                  5          0   \n",
       "7609                       5                  1          0   \n",
       "5863                      30                  4          1   \n",
       "9588                      26                  8          1   \n",
       "3038                       9                 12          1   \n",
       "1750                       7                 24          1   \n",
       "\n",
       "                                           product_name             aisle  \\\n",
       "7317                                   Large White Eggs              eggs   \n",
       "9713                              Organic Fat Free Milk              milk   \n",
       "3527                    Sour Cream & Onion Potato Chips    chips pretzels   \n",
       "613                   Toilet Paper Double Rolls - 24 CT       paper goods   \n",
       "3262                     Extralean Ground Turkey Breast  packaged poultry   \n",
       "7609                                    Kumato Tomatoes  fresh vegetables   \n",
       "5863                         Three Cheese Italian Sauce       pasta sauce   \n",
       "9588                                2% Reduced Fat Milk              milk   \n",
       "3038                       Pomegranate Limeade Quencher      refrigerated   \n",
       "1750  Natural Bliss Salted Caramel Flavor All-Natura...             cream   \n",
       "\n",
       "           department        time_x    time_y  \n",
       "7317       dairy eggs -7.071068e-01 -0.707107  \n",
       "9713       dairy eggs -7.071068e-01  0.707107  \n",
       "3527           snacks -5.000000e-01 -0.866025  \n",
       "613         household  2.588190e-01 -0.965926  \n",
       "3262     meat seafood -7.071068e-01 -0.707107  \n",
       "7609          produce -5.000000e-01  0.866025  \n",
       "5863  dry goods pasta  1.224647e-16 -1.000000  \n",
       "9588       dairy eggs -2.588190e-01  0.965926  \n",
       "3038        beverages  1.224647e-16 -1.000000  \n",
       "1750       dairy eggs  7.071068e-01 -0.707107  "
      ]
     },
     "execution_count": 16,
     "metadata": {},
     "output_type": "execute_result"
    }
   ],
   "source": [
    "small_dataset.sample(10)"
   ]
  },
  {
   "cell_type": "code",
   "execution_count": 17,
   "metadata": {},
   "outputs": [
    {
     "data": {
      "text/plain": [
       "<matplotlib.axes._subplots.AxesSubplot at 0x194f5fb8eb8>"
      ]
     },
     "execution_count": 17,
     "metadata": {},
     "output_type": "execute_result"
    },
    {
     "data": {
      "image/png": "[encoded data removed]",
      "text/plain": [
       "<Figure size 432x288 with 1 Axes>"
      ]
     },
     "metadata": {
      "needs_background": "light"
     },
     "output_type": "display_data"
    }
   ],
   "source": [
    "sns.kdeplot(small_dataset['order_hour_of_day'],shade=True,bw=1)"
   ]
  },
  {
   "cell_type": "code",
   "execution_count": 18,
   "metadata": {},
   "outputs": [
    {
     "data": {
      "text/plain": [
       "<matplotlib.axes._subplots.AxesSubplot at 0x194f60ec5f8>"
      ]
     },
     "execution_count": 18,
     "metadata": {},
     "output_type": "execute_result"
    },
    {
     "data": {
      "image/png": "[encoded data removed]",
      "text/plain": [
       "<Figure size 432x288 with 1 Axes>"
      ]
     },
     "metadata": {
      "needs_background": "light"
     },
     "output_type": "display_data"
    }
   ],
   "source": [
    "sns.kdeplot(small_dataset['order_dow'],shade=True,bw=1)"
   ]
  },
  {
   "cell_type": "code",
   "execution_count": 19,
   "metadata": {},
   "outputs": [
    {
     "data": {
      "text/plain": [
       "<matplotlib.axes._subplots.AxesSubplot at 0x194053f9978>"
      ]
     },
     "execution_count": 19,
     "metadata": {},
     "output_type": "execute_result"
    },
    {
     "data": {
      "image/png": "[encoded data removed]",
      "text/plain": [
       "<Figure size 432x288 with 1 Axes>"
      ]
     },
     "metadata": {
      "needs_background": "light"
     },
     "output_type": "display_data"
    }
   ],
   "source": [
    "sns.kdeplot(small_dataset['order_dow']*(24/7),shade=True,bw=24/7)\n",
    "sns.kdeplot(small_dataset['order_hour_of_day'],shade=True,bw=1)"
   ]
  },
  {
   "cell_type": "code",
   "execution_count": 20,
   "metadata": {},
   "outputs": [
    {
     "data": {
      "text/plain": [
       "<matplotlib.axes._subplots.AxesSubplot at 0x194007146a0>"
      ]
     },
     "execution_count": 20,
     "metadata": {},
     "output_type": "execute_result"
    },
    {
     "data": {
      "image/png": "[encoded data removed]",
      "text/plain": [
       "<Figure size 432x288 with 1 Axes>"
      ]
     },
     "metadata": {
      "needs_background": "light"
     },
     "output_type": "display_data"
    }
   ],
   "source": [
    "sns.kdeplot(small_dataset['order_hour_of_day'],small_dataset['order_dow'],shade=True,shade_lowest=True,bw=1,cmap=cc.cm.CET_L19)"
   ]
  },
  {
   "cell_type": "code",
   "execution_count": 21,
   "metadata": {},
   "outputs": [],
   "source": [
    "from gensim.test.utils import get_tmpfile"
   ]
  },
  {
   "cell_type": "code",
   "execution_count": 22,
   "metadata": {},
   "outputs": [],
   "source": [
    "from gensim.models import Word2Vec\n",
    "from gensim.models import Phrases"
   ]
  },
  {
   "cell_type": "code",
   "execution_count": 23,
   "metadata": {},
   "outputs": [],
   "source": [
    "from gensim.models import KeyedVectors"
   ]
  },
  {
   "cell_type": "code",
   "execution_count": null,
   "metadata": {},
   "outputs": [],
   "source": [
    "common_texts = small_dataset['product_name'].apply(lambda x: x.split(' '))\n",
    "common_texts.head(1)"
   ]
  },
  {
   "cell_type": "code",
   "execution_count": 46,
   "metadata": {},
   "outputs": [
    {
     "data": {
      "text/plain": [
       "[Banana]                                      130\n",
       "[Bag, of, Organic, Bananas]                   119\n",
       "[Organic, Strawberries]                        76\n",
       "[Organic, Hass, Avocado]                       70\n",
       "[Organic, Baby, Spinach]                       68\n",
       "                                             ... \n",
       "[Raisin, Bran, Crunch, Cereal]                  1\n",
       "[Hot, (101305,, 101352), Italian, Sausage]      1\n",
       "[Scrub, Singles, Bathroom]                      1\n",
       "[Chicken, Sticks]                               1\n",
       "[Home, Style, Blue, Cheese, Dressing]           1\n",
       "Name: product_name, Length: 4661, dtype: int64"
      ]
     },
     "execution_count": 46,
     "metadata": {},
     "output_type": "execute_result"
    }
   ],
   "source": [
    "common_texts.value_counts()"
   ]
  },
  {
   "cell_type": "code",
   "execution_count": null,
   "metadata": {},
   "outputs": [],
   "source": [
    "bigram_transformer = Phrases(common_texts)\n",
    "model = Word2Vec(bigram_transformer[common_texts], min_count=1)"
   ]
  },
  {
   "cell_type": "code",
   "execution_count": null,
   "metadata": {},
   "outputs": [],
   "source": [
    "model.wv"
   ]
  },
  {
   "cell_type": "code",
   "execution_count": null,
   "metadata": {},
   "outputs": [],
   "source": [
    "path = get_tmpfile('wordvectors.kv')"
   ]
  },
  {
   "cell_type": "code",
   "execution_count": null,
   "metadata": {},
   "outputs": [],
   "source": [
    "model.wv.save(path)"
   ]
  },
  {
   "cell_type": "code",
   "execution_count": null,
   "metadata": {},
   "outputs": [],
   "source": [
    "wv = KeyedVectors.load(path,mmap='r')"
   ]
  },
  {
   "cell_type": "code",
   "execution_count": null,
   "metadata": {},
   "outputs": [],
   "source": [
    "wv"
   ]
  },
  {
   "cell_type": "code",
   "execution_count": null,
   "metadata": {},
   "outputs": [],
   "source": [
    "del model"
   ]
  },
  {
   "cell_type": "code",
   "execution_count": null,
   "metadata": {},
   "outputs": [],
   "source": [
    "del common_texts\n",
    "del bigram_transformer"
   ]
  },
  {
   "cell_type": "code",
   "execution_count": 38,
   "metadata": {},
   "outputs": [],
   "source": [
    "reducer = umap.UMAP(min_dist=0.0)"
   ]
  },
  {
   "cell_type": "code",
   "execution_count": 39,
   "metadata": {},
   "outputs": [],
   "source": [
    "reduced = reducer.fit_transform(wv.vectors)"
   ]
  },
  {
   "cell_type": "code",
   "execution_count": 42,
   "metadata": {},
   "outputs": [
    {
     "data": {
      "text/plain": [
       "<matplotlib.collections.PathCollection at 0x194054203c8>"
      ]
     },
     "execution_count": 42,
     "metadata": {},
     "output_type": "execute_result"
    },
    {
     "data": {
      "image/png": "[encoded data removed]",
      "text/plain": [
       "<Figure size 432x288 with 1 Axes>"
      ]
     },
     "metadata": {
      "needs_background": "light"
     },
     "output_type": "display_data"
    }
   ],
   "source": [
    "plt.scatter(reduced[:,0],reduced[:,1], s=0.1)"
   ]
  },
  {
   "cell_type": "code",
   "execution_count": null,
   "metadata": {},
   "outputs": [],
   "source": []
  }
 ],
 "metadata": {
  "kernelspec": {
   "display_name": "Python 3",
   "language": "python",
   "name": "python3"
  },
  "language_info": {
   "codemirror_mode": {
    "name": "ipython",
    "version": 3
   },
   "file_extension": ".py",
   "mimetype": "text/x-python",
   "name": "python",
   "nbconvert_exporter": "python",
   "pygments_lexer": "ipython3",
   "version": "3.7.3"
  }
 },
 "nbformat": 4,
 "nbformat_minor": 2
}
